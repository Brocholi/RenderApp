{
 "cells": [
  {
   "cell_type": "markdown",
   "metadata": {},
   "source": [
    "The effect variables can have on the price of a used car.\n",
    "\n",
    "This project is purposed for showing how the energy source of a used vehicle can affect its resale price reflecting customer buying trends depending on the fuel type of the vehicle. Also, to show the direct relationship between resale price and the odometer mileage showing how customers view wear and tear as a factor when purchasing a used vehicle."
   ]
  },
  {
   "cell_type": "code",
   "execution_count": 17,
   "metadata": {},
   "outputs": [],
   "source": [
    "import pandas as pd\n",
    "import plotly.express as px\n",
    "import streamlit as st\n",
    "df= pd.read_csv('../vehicles_us.csv')"
   ]
  },
  {
   "cell_type": "code",
   "execution_count": 18,
   "metadata": {},
   "outputs": [
    {
     "data": {
      "text/html": [
       "<div>\n",
       "<style scoped>\n",
       "    .dataframe tbody tr th:only-of-type {\n",
       "        vertical-align: middle;\n",
       "    }\n",
       "\n",
       "    .dataframe tbody tr th {\n",
       "        vertical-align: top;\n",
       "    }\n",
       "\n",
       "    .dataframe thead th {\n",
       "        text-align: right;\n",
       "    }\n",
       "</style>\n",
       "<table border=\"1\" class=\"dataframe\">\n",
       "  <thead>\n",
       "    <tr style=\"text-align: right;\">\n",
       "      <th></th>\n",
       "      <th>price</th>\n",
       "      <th>model_year</th>\n",
       "      <th>model</th>\n",
       "      <th>condition</th>\n",
       "      <th>cylinders</th>\n",
       "      <th>fuel</th>\n",
       "      <th>odometer</th>\n",
       "      <th>transmission</th>\n",
       "      <th>type</th>\n",
       "      <th>paint_color</th>\n",
       "      <th>is_4wd</th>\n",
       "      <th>date_posted</th>\n",
       "      <th>days_listed</th>\n",
       "    </tr>\n",
       "  </thead>\n",
       "  <tbody>\n",
       "    <tr>\n",
       "      <th>0</th>\n",
       "      <td>9400</td>\n",
       "      <td>2011.0</td>\n",
       "      <td>bmw x5</td>\n",
       "      <td>good</td>\n",
       "      <td>6.0</td>\n",
       "      <td>gas</td>\n",
       "      <td>145000.0</td>\n",
       "      <td>automatic</td>\n",
       "      <td>SUV</td>\n",
       "      <td>NaN</td>\n",
       "      <td>1.0</td>\n",
       "      <td>2018-06-23</td>\n",
       "      <td>19</td>\n",
       "    </tr>\n",
       "    <tr>\n",
       "      <th>1</th>\n",
       "      <td>25500</td>\n",
       "      <td>NaN</td>\n",
       "      <td>ford f-150</td>\n",
       "      <td>good</td>\n",
       "      <td>6.0</td>\n",
       "      <td>gas</td>\n",
       "      <td>88705.0</td>\n",
       "      <td>automatic</td>\n",
       "      <td>pickup</td>\n",
       "      <td>white</td>\n",
       "      <td>1.0</td>\n",
       "      <td>2018-10-19</td>\n",
       "      <td>50</td>\n",
       "    </tr>\n",
       "    <tr>\n",
       "      <th>2</th>\n",
       "      <td>5500</td>\n",
       "      <td>2013.0</td>\n",
       "      <td>hyundai sonata</td>\n",
       "      <td>like new</td>\n",
       "      <td>4.0</td>\n",
       "      <td>gas</td>\n",
       "      <td>110000.0</td>\n",
       "      <td>automatic</td>\n",
       "      <td>sedan</td>\n",
       "      <td>red</td>\n",
       "      <td>NaN</td>\n",
       "      <td>2019-02-07</td>\n",
       "      <td>79</td>\n",
       "    </tr>\n",
       "    <tr>\n",
       "      <th>3</th>\n",
       "      <td>1500</td>\n",
       "      <td>2003.0</td>\n",
       "      <td>ford f-150</td>\n",
       "      <td>fair</td>\n",
       "      <td>8.0</td>\n",
       "      <td>gas</td>\n",
       "      <td>NaN</td>\n",
       "      <td>automatic</td>\n",
       "      <td>pickup</td>\n",
       "      <td>NaN</td>\n",
       "      <td>NaN</td>\n",
       "      <td>2019-03-22</td>\n",
       "      <td>9</td>\n",
       "    </tr>\n",
       "    <tr>\n",
       "      <th>4</th>\n",
       "      <td>14900</td>\n",
       "      <td>2017.0</td>\n",
       "      <td>chrysler 200</td>\n",
       "      <td>excellent</td>\n",
       "      <td>4.0</td>\n",
       "      <td>gas</td>\n",
       "      <td>80903.0</td>\n",
       "      <td>automatic</td>\n",
       "      <td>sedan</td>\n",
       "      <td>black</td>\n",
       "      <td>NaN</td>\n",
       "      <td>2019-04-02</td>\n",
       "      <td>28</td>\n",
       "    </tr>\n",
       "  </tbody>\n",
       "</table>\n",
       "</div>"
      ],
      "text/plain": [
       "   price  model_year           model  condition  cylinders fuel  odometer  \\\n",
       "0   9400      2011.0          bmw x5       good        6.0  gas  145000.0   \n",
       "1  25500         NaN      ford f-150       good        6.0  gas   88705.0   \n",
       "2   5500      2013.0  hyundai sonata   like new        4.0  gas  110000.0   \n",
       "3   1500      2003.0      ford f-150       fair        8.0  gas       NaN   \n",
       "4  14900      2017.0    chrysler 200  excellent        4.0  gas   80903.0   \n",
       "\n",
       "  transmission    type paint_color  is_4wd date_posted  days_listed  \n",
       "0    automatic     SUV         NaN     1.0  2018-06-23           19  \n",
       "1    automatic  pickup       white     1.0  2018-10-19           50  \n",
       "2    automatic   sedan         red     NaN  2019-02-07           79  \n",
       "3    automatic  pickup         NaN     NaN  2019-03-22            9  \n",
       "4    automatic   sedan       black     NaN  2019-04-02           28  "
      ]
     },
     "execution_count": 18,
     "metadata": {},
     "output_type": "execute_result"
    }
   ],
   "source": [
    "#check to see overview of dataset\n",
    "df.head()"
   ]
  },
  {
   "cell_type": "markdown",
   "metadata": {},
   "source": [
    "Will be using only price, odometer, and fuel columns."
   ]
  },
  {
   "cell_type": "code",
   "execution_count": 19,
   "metadata": {},
   "outputs": [
    {
     "name": "stdout",
     "output_type": "stream",
     "text": [
      "   price fuel  odometer  condition\n",
      "0   9400  gas  145000.0       good\n",
      "1  25500  gas   88705.0       good\n",
      "2   5500  gas  110000.0   like new\n",
      "3   1500  gas       NaN       fair\n",
      "4  14900  gas   80903.0  excellent\n",
      "['gas' 'diesel' 'other' 'hybrid' 'electric']\n"
     ]
    }
   ],
   "source": [
    "columns_kept= ['price', 'fuel', 'odometer', 'condition']\n",
    "filtered_df= df[columns_kept]\n",
    "print(filtered_df.head())\n",
    "#check to see different fuel types\n",
    "uf= df['fuel'].unique()\n",
    "print(uf)"
   ]
  },
  {
   "cell_type": "markdown",
   "metadata": {},
   "source": [
    "Now to create smaller df including only price and fuel, removing all missing and duplicate values."
   ]
  },
  {
   "cell_type": "code",
   "execution_count": 20,
   "metadata": {},
   "outputs": [
    {
     "name": "stdout",
     "output_type": "stream",
     "text": [
      "       price    fuel\n",
      "45761   7289     gas\n",
      "45815  34599     gas\n",
      "25944  19977  diesel\n",
      "39979  12875     gas\n",
      "5951   13877     gas\n",
      "6403   39000     gas\n",
      "8360    8975     gas\n",
      "6323   14900  diesel\n",
      "925     4495     gas\n",
      "5624   22933     gas\n",
      "Empty DataFrame\n",
      "Columns: [price, fuel]\n",
      "Index: []\n"
     ]
    }
   ],
   "source": [
    "first_columns= ['price', 'fuel']\n",
    "first_df= df[first_columns]\n",
    "cleaned_df1= first_df[['price', 'fuel']].drop_duplicates().dropna()\n",
    "print(cleaned_df1.sample(10))\n",
    "#checking for duplicates\n",
    "dup_df1= cleaned_df1[cleaned_df1.duplicated()]\n",
    "print(dup_df1)"
   ]
  },
  {
   "cell_type": "code",
   "execution_count": null,
   "metadata": {},
   "outputs": [],
   "source": [
    "\n",
    "#Histogram depicting price and fuel type correlation with checkboxes\n",
    "selected_fuel = []\n",
    "for fuel in uf:\n",
    "    if st.checkbox(fuel):\n",
    "        selected_fuel.append(fuel)\n",
    "\n",
    "if selected_fuel:\n",
    "    filtered_data= cleaned_df1[cleaned_df1['fuel'].isin(selected_fuel)]\n",
    "    fig= px.histogram(filtered_data, x='price', color='fuel', title='Price Distribution by Fuel Type', barmode='overlay')\n",
    "    st.plotly_chart(fig)\n",
    "else:\n",
    "    st.warning('Please select a fuel type.')"
   ]
  },
  {
   "cell_type": "markdown",
   "metadata": {},
   "source": [
    "The analysis show that there is no correlation to the fuel type and resale price of vehicles. This is mostly because of the lack of inventory of vehicles without the fuel type 'gas.'"
   ]
  },
  {
   "cell_type": "markdown",
   "metadata": {},
   "source": [
    "Now for the second plot. Price vs. odometer reading"
   ]
  },
  {
   "cell_type": "code",
   "execution_count": 22,
   "metadata": {},
   "outputs": [
    {
     "name": "stdout",
     "output_type": "stream",
     "text": [
      "       price  odometer\n",
      "22992   4500  133081.0\n",
      "7482   29995   73248.0\n",
      "32824   1599  104230.0\n",
      "17145  18495  184325.0\n",
      "4066   12500   33200.0\n",
      "6686     750  294500.0\n",
      "32006  29500   30053.0\n",
      "41382   9900  126000.0\n",
      "21635   4300  165000.0\n",
      "30527   6495  148868.0\n",
      "Empty DataFrame\n",
      "Columns: [price, odometer]\n",
      "Index: []\n"
     ]
    }
   ],
   "source": [
    "#resetting odometer category to include the median according to their condition for a bigger dataset\n",
    "#the condition of the vehicle will have a strong relationship to the miles on the vehicle\n",
    "df['odometer'] = df['odometer'].fillna(df.groupby(['condition'])['odometer'].transform('median'))\n",
    "\n",
    "#creating new dataframe to with price and odometer to remove all duplicates and missing values\n",
    "second_columns= ['price', 'odometer']\n",
    "second_df= df[second_columns]\n",
    "cleaned_df2= second_df[['price', 'odometer']].drop_duplicates().dropna()\n",
    "print(cleaned_df2.sample(10))\n",
    "\n",
    "#checking for duplicates\n",
    "dup_df2= cleaned_df2[cleaned_df2.duplicated()]\n",
    "print(dup_df2)"
   ]
  },
  {
   "cell_type": "code",
   "execution_count": null,
   "metadata": {},
   "outputs": [],
   "source": [
    "#Scatterplot of price vs. odometer mileage using st.write \n",
    "fig = px.scatter(cleaned_df2, x='odometer', y='price', title='Price vs Odometer', labels={'odometer': 'Odometer (miles)', 'price': 'Price ($)'})\n",
    "st.write(fig)"
   ]
  },
  {
   "cell_type": "markdown",
   "metadata": {},
   "source": [
    "The data exploration of this dataset shows a negative correlation between the odometer reading of a used car and the resale price."
   ]
  }
 ],
 "metadata": {
  "kernelspec": {
   "display_name": "project4",
   "language": "python",
   "name": "python3"
  },
  "language_info": {
   "codemirror_mode": {
    "name": "ipython",
    "version": 3
   },
   "file_extension": ".py",
   "mimetype": "text/x-python",
   "name": "python",
   "nbconvert_exporter": "python",
   "pygments_lexer": "ipython3",
   "version": "3.13.2"
  }
 },
 "nbformat": 4,
 "nbformat_minor": 2
}
